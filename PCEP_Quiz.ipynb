{
  "nbformat": 4,
  "nbformat_minor": 0,
  "metadata": {
    "colab": {
      "provenance": [],
      "authorship_tag": "ABX9TyOH90Qw+5SlgBdRXcd6ANQ0",
      "include_colab_link": true
    },
    "kernelspec": {
      "name": "python3",
      "display_name": "Python 3"
    },
    "language_info": {
      "name": "python"
    }
  },
  "cells": [
    {
      "cell_type": "markdown",
      "metadata": {
        "id": "view-in-github",
        "colab_type": "text"
      },
      "source": [
        "<a href=\"https://colab.research.google.com/github/theromanek/PCEP-Quiz-/blob/main/PCEP_Quiz.ipynb\" target=\"_parent\"><img src=\"https://colab.research.google.com/assets/colab-badge.svg\" alt=\"Open In Colab\"/></a>"
      ]
    },
    {
      "cell_type": "code",
      "execution_count": 1,
      "metadata": {
        "id": "696DxgNgYgXg"
      },
      "outputs": [],
      "source": [
        "\n",
        "QUESTIONS = [\n",
        "    {\n",
        "        \"q\": \"What is the output of: type(3/2)?\",\n",
        "        \"choices\": [\"A) <class 'int'>\", \"B) <class 'float'>\", \"C) <class 'str'>\", \"D) <class 'bool'>\"],\n",
        "        \"answer\": \"B\"\n",
        "    },\n",
        "    {\n",
        "        \"q\": \"Which is a valid variable name?\",\n",
        "        \"choices\": [\"A) 2value\", \"B) value_2\", \"C) value-2\", \"D) value 2\"],\n",
        "        \"answer\": \"B\"\n",
        "    },\n",
        "    {\n",
        "        \"q\": \"Which keyword defines a function?\",\n",
        "        \"choices\": [\"A) func\", \"B) define\", \"C) def\", \"D) function\"],\n",
        "        \"answer\": \"C\"\n",
        "    },\n",
        "    {\n",
        "        \"q\": \"What does // do?\",\n",
        "        \"choices\": [\"A) true division\", \"B) floor division\", \"C) modulo\", \"D) exponent\"],\n",
        "        \"answer\": \"B\"\n",
        "    },\n",
        "    {\n",
        "        \"q\": \"How do you start a comment in Python?\",\n",
        "        \"choices\": [\"A) //\", \"B) <!--\", \"C) --\", \"D) #\"],\n",
        "        \"answer\": \"D\"\n",
        "    },\n",
        "    {\n",
        "        \"q\": \"Which creates an empty dict?\",\n",
        "        \"choices\": [\"A) {}\", \"B) []\", \"C) dict()\", \"D) both A and C\"],\n",
        "        \"answer\": \"D\"\n",
        "    },\n",
        "    {\n",
        "        \"q\": \"What is the first index of a list?\",\n",
        "        \"choices\": [\"A) 1\", \"B) 0\", \"C) -1\", \"D) None\"],\n",
        "        \"answer\": \"B\"\n",
        "    },\n",
        "    {\n",
        "        \"q\": \"Which keyword exits a loop immediately?\",\n",
        "        \"choices\": [\"A) stop\", \"B) quit\", \"C) break\", \"D) exit\"],\n",
        "        \"answer\": \"C\"\n",
        "    },\n",
        "    {\n",
        "        \"q\": \"What is bool(0)?\",\n",
        "        \"choices\": [\"A) True\", \"B) False\", \"C) None\", \"D) Error\"],\n",
        "        \"answer\": \"B\"\n",
        "    },\n",
        "    {\n",
        "        \"q\": \"Lists vs Tuples:\",\n",
        "        \"choices\": [\"A) lists immutable, tuples mutable\",\n",
        "                    \"B) lists mutable, tuples immutable\",\n",
        "                    \"C) both mutable\",\n",
        "                    \"D) both immutable\"],\n",
        "        \"answer\": \"B\"\n",
        "    },\n",
        "]"
      ]
    }
  ]
}